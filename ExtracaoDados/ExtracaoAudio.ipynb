{
  "nbformat": 4,
  "nbformat_minor": 0,
  "metadata": {
    "colab": {
      "provenance": [],
      "mount_file_id": "1IRgi-Sox19akCrxcO4ThJad69zZbr_3k",
      "authorship_tag": "ABX9TyMIMHDKR4t50xRN84UXKr8q",
      "include_colab_link": true
    },
    "kernelspec": {
      "name": "python3",
      "display_name": "Python 3"
    },
    "language_info": {
      "name": "python"
    }
  },
  "cells": [
    {
      "cell_type": "markdown",
      "metadata": {
        "id": "view-in-github",
        "colab_type": "text"
      },
      "source": [
        "<a href=\"https://colab.research.google.com/github/VictorHNascimento/FreshIt/blob/main/ExtracaoDados/ExtracaoAudio.ipynb\" target=\"_parent\"><img src=\"https://colab.research.google.com/assets/colab-badge.svg\" alt=\"Open In Colab\"/></a>"
      ]
    },
    {
      "cell_type": "markdown",
      "source": [
        "# Extração de Audio de uma Playlist do Youtube"
      ],
      "metadata": {
        "id": "WnOqXFhbN-qI"
      }
    },
    {
      "cell_type": "code",
      "source": [
        "#Importando as Bibliotecas\n",
        "!pip install pytube # Puxa os videos do youtube e baixa o MP4\n",
        "!pip install pydub #Extrai o Aúdio"
      ],
      "metadata": {
        "colab": {
          "base_uri": "https://localhost:8080/"
        },
        "id": "mmxoliWITO7C",
        "outputId": "13d3d283-3f85-40d9-f90b-b847ae64ede6"
      },
      "execution_count": null,
      "outputs": [
        {
          "output_type": "stream",
          "name": "stdout",
          "text": [
            "Collecting pytube\n",
            "  Downloading pytube-15.0.0-py3-none-any.whl (57 kB)\n",
            "\u001b[?25l     \u001b[90m━━━━━━━━━━━━━━━━━━━━━━━━━━━━━━━━━━━━━━━━\u001b[0m \u001b[32m0.0/57.6 kB\u001b[0m \u001b[31m?\u001b[0m eta \u001b[36m-:--:--\u001b[0m\r\u001b[2K     \u001b[90m━━━━━━━━━━━━━━━━━━━━━━━━━━━━━━━━━━━━━━━━\u001b[0m \u001b[32m57.6/57.6 kB\u001b[0m \u001b[31m2.8 MB/s\u001b[0m eta \u001b[36m0:00:00\u001b[0m\n",
            "\u001b[?25hInstalling collected packages: pytube\n",
            "Successfully installed pytube-15.0.0\n",
            "Collecting pydub\n",
            "  Downloading pydub-0.25.1-py2.py3-none-any.whl (32 kB)\n",
            "Installing collected packages: pydub\n",
            "Successfully installed pydub-0.25.1\n"
          ]
        }
      ]
    },
    {
      "cell_type": "markdown",
      "source": [
        "# Criando a Função Extrair_Audio"
      ],
      "metadata": {
        "id": "oXG9yzvEu3uW"
      }
    },
    {
      "cell_type": "code",
      "source": [
        "#Bibliotecas Necessárias\n",
        "from pytube import YouTube\n",
        "from pydub import AudioSegment\n",
        "from google.colab import drive\n",
        "import os\n",
        "\n",
        "# Montar o Google Drive\n",
        "drive.mount('/content/drive')\n",
        "# Função para extrair o áudio de um vídeo do YouTube e salvar como MP3 no Google Drive\n",
        "def extrair_audio(link, output_path):\n",
        "    try:\n",
        "        # Instanciar o objeto YouTube com o link do vídeo\n",
        "        video = YouTube(link)\n",
        "\n",
        "        # Extrair o áudio do vídeo\n",
        "        audio_stream = video.streams.filter(only_audio=True).first()\n",
        "\n",
        "        # Baixar o vídeo para o Google Colab\n",
        "        mp4_file_path = audio_stream.download('/content/')\n",
        "\n",
        "        # Converter o arquivo MP4 para MP3\n",
        "        mp4_audio = AudioSegment.from_file(mp4_file_path, format=\"mp4\")\n",
        "        mp3_file_path = output_path + \"/\" + video.title + \".mp3\"\n",
        "        mp4_audio.export(mp3_file_path, format=\"mp3\")\n",
        "\n",
        "        #Remove o vídeo da Raiz do Colab para economizar espaço\n",
        "        os.remove(mp4_file_path)\n",
        "        print(f\"Áudio extraído e salvo como MP3 no Google Drive com sucesso!\")\n",
        "\n",
        "    except Exception as e:\n",
        "        print(\"Erro ao extrair e salvar áudio:\", str(e))"
      ],
      "metadata": {
        "colab": {
          "base_uri": "https://localhost:8080/"
        },
        "outputId": "a9276f73-9737-498c-cb97-87e2667a7573",
        "id": "P_h7jY1opUbV"
      },
      "execution_count": null,
      "outputs": [
        {
          "output_type": "stream",
          "name": "stdout",
          "text": [
            "Drive already mounted at /content/drive; to attempt to forcibly remount, call drive.mount(\"/content/drive\", force_remount=True).\n"
          ]
        }
      ]
    },
    {
      "cell_type": "markdown",
      "source": [
        "# Extraindo URLS Da Playlist"
      ],
      "metadata": {
        "id": "OUvf9cJEu_mR"
      }
    },
    {
      "cell_type": "code",
      "source": [
        "from pytube import Playlist\n",
        "\n",
        "# URL da playlist do YouTube\n",
        "playlist_url = 'https://www.youtube.com/playlist?list=PLPFzKsPt50V8azAzY0Sg2go23AL9nuAAF'\n",
        "\n",
        "# Instanciar um objeto Playlist\n",
        "playlist = Playlist(playlist_url)\n",
        "\n",
        "# Extrair URLs dos vídeos da playlist\n",
        "video_urls = playlist.video_urls"
      ],
      "metadata": {
        "id": "xvjqXifVujFo"
      },
      "execution_count": null,
      "outputs": []
    },
    {
      "cell_type": "markdown",
      "source": [
        "#Implementando a Função"
      ],
      "metadata": {
        "id": "sH1CZGCHvLRY"
      }
    },
    {
      "cell_type": "code",
      "source": [
        "#Extraindo Os Aúdios e Salvando no Drive\n",
        "for i in video_urls:\n",
        "  link_video = i\n",
        "  output_path = \"/content/drive/MyDrive/Colab Notebooks/TUNESIGHT/MUSICAS/\"  # Caminho onde o áudio será salvo no Google Drive\n",
        "  extrair_audio(link_video, output_path)"
      ],
      "metadata": {
        "colab": {
          "base_uri": "https://localhost:8080/"
        },
        "id": "aCQqEXWassEW",
        "outputId": "fda0dd66-35a1-4867-f45f-5cd606ca3b46"
      },
      "execution_count": null,
      "outputs": [
        {
          "output_type": "stream",
          "name": "stdout",
          "text": [
            "Áudio extraído e salvo como MP3 no Google Drive com sucesso!\n",
            "Áudio extraído e salvo como MP3 no Google Drive com sucesso!\n",
            "Áudio extraído e salvo como MP3 no Google Drive com sucesso!\n",
            "Áudio extraído e salvo como MP3 no Google Drive com sucesso!\n",
            "Áudio extraído e salvo como MP3 no Google Drive com sucesso!\n",
            "Áudio extraído e salvo como MP3 no Google Drive com sucesso!\n",
            "Áudio extraído e salvo como MP3 no Google Drive com sucesso!\n",
            "Erro ao extrair e salvar áudio: [Errno 2] No such file or directory: '/content/drive/MyDrive/Colab Notebooks/TUNESIGHT/MUSICAS//Oliver Tree - Alien Boy // lyrics.mp3'\n",
            "Áudio extraído e salvo como MP3 no Google Drive com sucesso!\n",
            "Áudio extraído e salvo como MP3 no Google Drive com sucesso!\n",
            "Áudio extraído e salvo como MP3 no Google Drive com sucesso!\n",
            "Áudio extraído e salvo como MP3 no Google Drive com sucesso!\n",
            "Áudio extraído e salvo como MP3 no Google Drive com sucesso!\n",
            "Áudio extraído e salvo como MP3 no Google Drive com sucesso!\n",
            "Áudio extraído e salvo como MP3 no Google Drive com sucesso!\n",
            "Áudio extraído e salvo como MP3 no Google Drive com sucesso!\n",
            "Áudio extraído e salvo como MP3 no Google Drive com sucesso!\n",
            "Áudio extraído e salvo como MP3 no Google Drive com sucesso!\n",
            "Áudio extraído e salvo como MP3 no Google Drive com sucesso!\n",
            "Áudio extraído e salvo como MP3 no Google Drive com sucesso!\n",
            "Áudio extraído e salvo como MP3 no Google Drive com sucesso!\n",
            "Áudio extraído e salvo como MP3 no Google Drive com sucesso!\n",
            "Áudio extraído e salvo como MP3 no Google Drive com sucesso!\n",
            "Áudio extraído e salvo como MP3 no Google Drive com sucesso!\n",
            "Áudio extraído e salvo como MP3 no Google Drive com sucesso!\n",
            "Áudio extraído e salvo como MP3 no Google Drive com sucesso!\n",
            "Áudio extraído e salvo como MP3 no Google Drive com sucesso!\n",
            "Áudio extraído e salvo como MP3 no Google Drive com sucesso!\n",
            "Áudio extraído e salvo como MP3 no Google Drive com sucesso!\n",
            "Áudio extraído e salvo como MP3 no Google Drive com sucesso!\n",
            "Áudio extraído e salvo como MP3 no Google Drive com sucesso!\n",
            "Áudio extraído e salvo como MP3 no Google Drive com sucesso!\n",
            "Áudio extraído e salvo como MP3 no Google Drive com sucesso!\n",
            "Áudio extraído e salvo como MP3 no Google Drive com sucesso!\n",
            "Áudio extraído e salvo como MP3 no Google Drive com sucesso!\n",
            "Áudio extraído e salvo como MP3 no Google Drive com sucesso!\n",
            "Áudio extraído e salvo como MP3 no Google Drive com sucesso!\n",
            "Áudio extraído e salvo como MP3 no Google Drive com sucesso!\n",
            "Áudio extraído e salvo como MP3 no Google Drive com sucesso!\n",
            "Áudio extraído e salvo como MP3 no Google Drive com sucesso!\n",
            "Áudio extraído e salvo como MP3 no Google Drive com sucesso!\n",
            "Áudio extraído e salvo como MP3 no Google Drive com sucesso!\n",
            "Áudio extraído e salvo como MP3 no Google Drive com sucesso!\n"
          ]
        }
      ]
    }
  ]
}