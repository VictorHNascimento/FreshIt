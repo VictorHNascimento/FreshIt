{
  "nbformat": 4,
  "nbformat_minor": 0,
  "metadata": {
    "colab": {
      "provenance": [],
      "authorship_tag": "ABX9TyM4oCUbwXH//Q+32QjvUpsr",
      "include_colab_link": true
    },
    "kernelspec": {
      "name": "python3",
      "display_name": "Python 3"
    },
    "language_info": {
      "name": "python"
    }
  },
  "cells": [
    {
      "cell_type": "markdown",
      "metadata": {
        "id": "view-in-github",
        "colab_type": "text"
      },
      "source": [
        "<a href=\"https://colab.research.google.com/github/VictorHNascimento/FreshIt/blob/main/MachineLearning/PreProcessamento.ipynb\" target=\"_parent\"><img src=\"https://colab.research.google.com/assets/colab-badge.svg\" alt=\"Open In Colab\"/></a>"
      ]
    },
    {
      "cell_type": "code",
      "execution_count": null,
      "metadata": {
        "id": "RIj6lLej3ndP"
      },
      "outputs": [],
      "source": [
        "#Bibliotecas Necessarias\n",
        "import numpy as np\n",
        "import matplotlib.pyplot as plt\n",
        "import pandas as pd"
      ]
    },
    {
      "cell_type": "code",
      "source": [
        "#Lendo o Dataset e Separando a Matriz de Caracteristica (X) e a Matriz de \"Resultado\"(Y)\n",
        "dataset = pd.read_csv('Data.csv')\n",
        "x = dataset.iloc[:, :-1].values\n",
        "y = dataset.iloc[:, -1].values"
      ],
      "metadata": {
        "id": "UjwwmLrx4goh"
      },
      "execution_count": null,
      "outputs": []
    },
    {
      "cell_type": "code",
      "source": [
        "# Tratando Dados Nulos\n",
        "from sklearn.impute import SimpleImputer\n",
        "imputer = SimpleImputer(missing_values=np.nan, strategy='mean') #cria um objeto que transforma os valores nulos na média dos dados\n",
        "imputer.fit(x[:, 1:3]) #Ensina o imputer sobre os valores nulos das colunas 2 e 3\n",
        "x[:, 1:3] = imputer.transform(x[:, 1:3]) # Substitui os valores ausentes nas colunas 2 e 3 de x pelos valores médios calculados anteriormente."
      ],
      "metadata": {
        "id": "Hv7pKL6s-0xP"
      },
      "execution_count": null,
      "outputs": []
    },
    {
      "cell_type": "code",
      "source": [
        "#Codificando Variaveis INndependentes\n",
        "from sklearn.compose import ColumnTransformer\n",
        "from sklearn.preprocessing import OneHotEncoder\n",
        "ct = ColumnTransformer(transformers =[('encoder', OneHotEncoder(), [0])], remainder='passthrough')\n",
        "x = np.array(ct.fit_transform(x))"
      ],
      "metadata": {
        "id": "GqISN6kHAXlS"
      },
      "execution_count": null,
      "outputs": []
    },
    {
      "cell_type": "code",
      "source": [
        "#Codificando Variaveis Dependentes\n",
        "from sklearn.preprocessing import LabelEncoder\n",
        "le = LabelEncoder() #Transforma valores categóricos em rótulos numéricos.\n",
        "y = le.fit_transform(y) #transforma valores de Y em numericos"
      ],
      "metadata": {
        "id": "PYQdrI_5NrkC"
      },
      "execution_count": null,
      "outputs": []
    },
    {
      "cell_type": "code",
      "source": [
        "# Separando dados de treino e teste\n",
        "from sklearn.model_selection import train_test_split\n",
        "x_train, x_test, y_train, y_test = train_test_split(x, y, test_size = 0.2, random_state = 1)"
      ],
      "metadata": {
        "id": "NogEc6snXMZw"
      },
      "execution_count": null,
      "outputs": []
    },
    {
      "cell_type": "code",
      "source": [
        "# Normalizando as características do conjunto de dados, escala de caracteristicas\n",
        "from sklearn.preprocessing import StandardScaler\n",
        "sc = StandardScaler()\n",
        "x_train = sc.fit_transform(x_train)\n",
        "x_test = sc.transform(x_test)"
      ],
      "metadata": {
        "id": "7xDGrVdvYe0G"
      },
      "execution_count": null,
      "outputs": []
    }
  ]
}