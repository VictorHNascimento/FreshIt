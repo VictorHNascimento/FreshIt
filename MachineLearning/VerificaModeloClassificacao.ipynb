{
  "nbformat": 4,
  "nbformat_minor": 0,
  "metadata": {
    "colab": {
      "provenance": [],
      "authorship_tag": "ABX9TyP8Z5MiaxFbbDtzANMvcxb0",
      "include_colab_link": true
    },
    "kernelspec": {
      "name": "python3",
      "display_name": "Python 3"
    },
    "language_info": {
      "name": "python"
    }
  },
  "cells": [
    {
      "cell_type": "markdown",
      "metadata": {
        "id": "view-in-github",
        "colab_type": "text"
      },
      "source": [
        "<a href=\"https://colab.research.google.com/github/VictorHNascimento/FreshIt/blob/main/MachineLearning/VerificaModeloClassificacao.ipynb\" target=\"_parent\"><img src=\"https://colab.research.google.com/assets/colab-badge.svg\" alt=\"Open In Colab\"/></a>"
      ]
    },
    {
      "cell_type": "markdown",
      "source": [
        "#Verificando Melhor Modelo de Classificação"
      ],
      "metadata": {
        "id": "FWqLifXNzqkH"
      }
    },
    {
      "cell_type": "code",
      "execution_count": null,
      "metadata": {
        "id": "QRG8BMrSzphp"
      },
      "outputs": [],
      "source": [
        "# Instanciar modelos de classificação\n",
        "models = {\n",
        "    'Random Forest': RandomForestClassifier(),\n",
        "    'Logistic Regression': LogisticRegression(max_iter=600),\n",
        "    'Support Vector Machine': SVC(),\n",
        "    'K-Nearest Neighbors': KNeighborsClassifier(),\n",
        "    'Decision Tree': DecisionTreeClassifier()\n",
        "}\n",
        "\n",
        "# Armazenar resultados\n",
        "results = []\n",
        "\n",
        "# Treinar e avaliar cada modelo\n",
        "for name, model in models.items():\n",
        "    model.fit(X_train, y_train)\n",
        "    y_pred_train = model.predict(X_train)\n",
        "    y_pred_test = model.predict(X_test)\n",
        "\n",
        "    accuracy_train = accuracy_score(y_train, y_pred_train)\n",
        "    accuracy_test = accuracy_score(y_test, y_pred_test)\n",
        "\n",
        "    report_train = classification_report(y_train, y_pred_train, output_dict=True)\n",
        "    report_test = classification_report(y_test, y_pred_test, output_dict=True)\n",
        "\n",
        "    results.append({\n",
        "        'Modelo': name,\n",
        "        'Acurácia Treino': accuracy_train,\n",
        "        'Acurácia Teste': accuracy_test,\n",
        "        **report_train['weighted avg'],\n",
        "        **report_test['weighted avg']\n",
        "    })\n",
        "\n",
        "# Criar DataFrame com os resultados\n",
        "df_results = pd.DataFrame(results)\n",
        "\n",
        "# Ordenar DataFrame pela métrica de interesse (por exemplo, Acurácia Teste)\n",
        "df_results_sorted = df_results.sort_values(by='Acurácia Teste', ascending=False)\n",
        "\n",
        "# Definir uma função para aplicar formatação condicional e alinhamento à esquerda às células\n",
        "def style_format(val):\n",
        "    if val == df_results_sorted.iloc[0]['Modelo']:\n",
        "        color = 'green'\n",
        "    elif val == df_results_sorted.iloc[1]['Modelo']:\n",
        "        color = 'yellow'\n",
        "    elif val == df_results_sorted.iloc[2]['Modelo']:\n",
        "        color = 'red'\n",
        "    else:\n",
        "        color = 'black'\n",
        "    return f'color: {color}; text-align: left;'\n",
        "\n",
        "# Aplicar formatação condicional e alinhamento à esquerda à coluna 'Modelo'\n",
        "styled_df = df_results_sorted.style.applymap(style_format, subset=['Modelo'])\n",
        "\n",
        "# Exibir DataFrame formatado\n",
        "styled_df"
      ]
    }
  ]
}